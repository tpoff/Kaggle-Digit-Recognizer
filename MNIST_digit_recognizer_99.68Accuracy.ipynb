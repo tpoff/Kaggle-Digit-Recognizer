{
 "cells": [
  {
   "cell_type": "markdown",
   "id": "7756d671-a890-4558-be42-0c0aed6b15a4",
   "metadata": {},
   "source": [
    "# Creating a Digit Recognizer Model with the Kaggle MNIST Dataset\n",
    "## A Newbies First Attempt at a High Performance Deep learning with Model Ensembling, Achieved 99.68% accuracy\n",
    "Reader beware, newbie at work.\n",
    "\n",
    "Over the past few years I have played with the idea of truly mastering Deep Learning. Last year I actually studied up and managed to earn the Tensorflow Certification for Deep Learning. An achievement I'm still proud of, but must admit was much easier than I was expecting. I walked away thinking that it was more of an very basic introduction than a high ranking goal for truly learning this field. So this year I decided to really do my best to learn everything I can about creating Deep Learning models myself and with the intention of making as good of a model as I can. To that end I decided to start at the very beginning with the MNIST dataset, and to make it extra interesting I decided to use this opportunity to learn another deep learning framework besides Tensorflow, PyTorch. \n",
    "\n",
    "In this notebook I go over my initial data analysis, model architecture, training strategy and ensembling approach to build the highest performing model that I can on the Kaggle version of the MNIST dataset. With a focus on maintaining reproducability for the experiments. The final model will be an ensemble model of the top 10 performing models. For this notebook we will train 30 models in total each with 40 epochs. We will use data augmentation to produce new images from our training dataset to help generalize the model to the best of our ability. \n",
    "\n",
    "In the end I was able to develop a rough model pipeline that can produce a model that achieved 99.685% accuracy on the hidden dataset in Kaggle, with additional manual testing I found a subset of all trained models that achieve an accuracy of 99.7% through trial and error. \n",
    "\n",
    "I will also summarize some of the lessons I've learned and what I will take into account for future projects. \n",
    "\n",
    "<b>A NOTE ON REPRODUCABILITY:</b> One of the major take aways I got from this project was the need to be able to reproduce the results of an experiment, so long as nothing has changed it's important to be able to hit run and get the same scores and metrics and previous runs. This is vital for ensuring that a change made to the code actually benefits or hurts the end result, otherwise it's possible that a change you made was actually hurtful overall, but because of a lucky split of the data the metrics turned out positive. That being said, I was not able to fully replicate the results of this notebook on Kaggle. After experimenting with the various offerings on kaggle for gpu acceleration I believe the issue has to do with the GPUs themselves. My own GPU on my local machine is an Nvidia 3090 with cuda 11.6, the offerings on Kaggle are a duel T4 gpu setup with Cuda 11.3, and a P100 gpu again with Cuda 11.3. Each of these gpus running the same notebook produced different end results. Those end results were always the same, so everytime you ran the notebook on the P100 you would get the same result, but that result would differ from runs on the T4 gpus and my 3090. This is really confusing considering that the Cuda version for the Kaggle offerings are the same, so this makes me wonder if perhaps there is some architecture differences in play, but this is pure speculation. All that to say, if you run this notebook on a kaggle kernel the results will vary. I have saved the models from my local training to github if you want to use them. I'm really sorry, I tried my best to figure it out but was unable to, I still would like to share the notebook as at least a record of my attempt. "
   ]
  },
  {
   "cell_type": "markdown",
   "id": "ca07b27c-2beb-4fbf-8a4a-fe7aba4d301f",
   "metadata": {},
   "source": [
    "## Importing libraries and defining some variables"
   ]
  },
  {
   "cell_type": "code",
   "execution_count": 1,
   "id": "a3660dc8-ce36-4b79-9841-6674b8ebd1c6",
   "metadata": {
    "execution": {
     "iopub.execute_input": "2023-03-28T07:13:56.987450Z",
     "iopub.status.busy": "2023-03-28T07:13:56.987450Z",
     "iopub.status.idle": "2023-03-28T07:14:00.788449Z",
     "shell.execute_reply": "2023-03-28T07:14:00.788052Z",
     "shell.execute_reply.started": "2023-03-28T07:13:56.987450Z"
    },
    "tags": []
   },
   "outputs": [
    {
     "name": "stderr",
     "output_type": "stream",
     "text": [
      "C:\\Users\\Tyler\\anaconda3\\lib\\site-packages\\scipy\\__init__.py:146: UserWarning: A NumPy version >=1.16.5 and <1.23.0 is required for this version of SciPy (detected version 1.24.2\n",
      "  warnings.warn(f\"A NumPy version >={np_minversion} and <{np_maxversion}\"\n"
     ]
    }
   ],
   "source": [
    "import torch\n",
    "from torch import nn\n",
    "from torch.utils.data import DataLoader, TensorDataset, Dataset\n",
    "from torchvision import datasets, transforms\n",
    "from torchvision.transforms import RandomRotation, RandomHorizontalFlip, RandomPerspective, RandomAffine, Lambda, Normalize, ColorJitter, ToPILImage\n",
    "from torchvision.utils import make_grid\n",
    "from torchvision.transforms import ToTensor\n",
    "import torchvision\n",
    "import torch.optim as optim\n",
    "import numpy as np\n",
    "import torch.nn.functional as F\n",
    "from torchvision import datasets, transforms\n",
    "import seaborn as sns\n",
    "import matplotlib.pyplot as plt\n",
    "import time\n",
    "import json\n",
    "import os\n",
    "import pandas as pd\n",
    "from sklearn.model_selection import train_test_split\n",
    "import sklearn\n",
    "import os\n",
    "import math\n",
    "from PIL import Image\n",
    "from collections import Counter\n",
    "import random\n",
    "import warnings\n",
    "warnings.filterwarnings(\"ignore\")"
   ]
  },
  {
   "cell_type": "code",
   "execution_count": 2,
   "id": "2a5de697-bf0e-4012-bb8a-4649a4c850a6",
   "metadata": {
    "execution": {
     "iopub.execute_input": "2023-03-28T07:14:00.789448Z",
     "iopub.status.busy": "2023-03-28T07:14:00.789448Z",
     "iopub.status.idle": "2023-03-28T07:14:00.803951Z",
     "shell.execute_reply": "2023-03-28T07:14:00.803554Z",
     "shell.execute_reply.started": "2023-03-28T07:14:00.789448Z"
    },
    "tags": []
   },
   "outputs": [
    {
     "name": "stdout",
     "output_type": "stream",
     "text": [
      "Torch version:  1.13.0+cu116\n",
      "Numpy version:  1.24.2\n",
      "Pandas version:  1.4.2\n",
      "torchvision version:  0.14.0+cu116\n",
      "sklearn version:  1.0.2\n",
      "cuda version:  11.6\n"
     ]
    }
   ],
   "source": [
    "print(\"Torch version: \", torch.__version__)\n",
    "print(\"Numpy version: \", np.__version__)\n",
    "print(\"Pandas version: \", pd.__version__)\n",
    "print(\"torchvision version: \", torchvision.__version__)\n",
    "print(\"sklearn version: \", sklearn.__version__)\n",
    "print(\"cuda version: \", torch.version.cuda)"
   ]
  },
  {
   "cell_type": "code",
   "execution_count": 3,
   "id": "6fe3b8d9-691e-4f27-8271-e1b23334b310",
   "metadata": {
    "execution": {
     "iopub.execute_input": "2023-03-28T07:14:00.805949Z",
     "iopub.status.busy": "2023-03-28T07:14:00.805482Z",
     "iopub.status.idle": "2023-03-28T07:14:00.819950Z",
     "shell.execute_reply": "2023-03-28T07:14:00.818951Z",
     "shell.execute_reply.started": "2023-03-28T07:14:00.805949Z"
    }
   },
   "outputs": [],
   "source": [
    "# this might be needed depending on your cuda version and gpu. Some of the newer version of cuda have non-deterministic actions for certain events which plays havoc on reproducability, \n",
    "# this forces cuda to use a deterministic version of actions when available. \n",
    "os.environ[\"CUBLAS_WORKSPACE_CONFIG\"] = \":4096:8\""
   ]
  },
  {
   "cell_type": "markdown",
   "id": "461798cb-1f40-49d2-af48-20f6e4946baa",
   "metadata": {},
   "source": [
    "Check what type of compute environment we have, if we have a gpu we can utilize. "
   ]
  },
  {
   "cell_type": "code",
   "execution_count": 4,
   "id": "8e5699b5-807c-4bb4-91f8-1c67513a7b2c",
   "metadata": {
    "execution": {
     "iopub.execute_input": "2023-03-28T07:14:00.820448Z",
     "iopub.status.busy": "2023-03-28T07:14:00.820448Z",
     "iopub.status.idle": "2023-03-28T07:14:00.881365Z",
     "shell.execute_reply": "2023-03-28T07:14:00.880462Z",
     "shell.execute_reply.started": "2023-03-28T07:14:00.820448Z"
    },
    "tags": []
   },
   "outputs": [
    {
     "name": "stdout",
     "output_type": "stream",
     "text": [
      "available devices: 2\n",
      "current device: 0\n"
     ]
    }
   ],
   "source": [
    "print(f'available devices: {torch.cuda.device_count()}')\n",
    "print(f'current device: { torch.cuda.current_device()}')"
   ]
  },
  {
   "cell_type": "code",
   "execution_count": 5,
   "id": "81f9ac1b-03e9-47b2-8162-927d283081d7",
   "metadata": {
    "execution": {
     "iopub.execute_input": "2023-03-28T07:14:00.882365Z",
     "iopub.status.busy": "2023-03-28T07:14:00.882365Z",
     "iopub.status.idle": "2023-03-28T07:14:00.896599Z",
     "shell.execute_reply": "2023-03-28T07:14:00.895597Z",
     "shell.execute_reply.started": "2023-03-28T07:14:00.882365Z"
    },
    "tags": []
   },
   "outputs": [
    {
     "name": "stdout",
     "output_type": "stream",
     "text": [
      "device:  cuda\n"
     ]
    }
   ],
   "source": [
    "device = \"cuda\" if torch.cuda.is_available() else \"cpu\"\n",
    "print(\"device: \", device)"
   ]
  },
  {
   "cell_type": "code",
   "execution_count": 6,
   "id": "5a093e11-c304-4091-a54f-55976f4fc069",
   "metadata": {
    "execution": {
     "iopub.execute_input": "2023-03-28T07:14:00.897600Z",
     "iopub.status.busy": "2023-03-28T07:14:00.897099Z",
     "iopub.status.idle": "2023-03-28T07:14:00.911598Z",
     "shell.execute_reply": "2023-03-28T07:14:00.911096Z",
     "shell.execute_reply.started": "2023-03-28T07:14:00.897600Z"
    }
   },
   "outputs": [],
   "source": [
    "random_seed = 31262 # define a random seed to ensure reproducability of results\n",
    "num_models_to_train = 30 # since our end goal will be an ensemble of our top models, we will define how many models we want to train overall here\n",
    "num_epochs = 40 # likewise how long to train each model"
   ]
  },
  {
   "cell_type": "code",
   "execution_count": 7,
   "id": "b49fa329-8bfe-4768-9cd2-f6e1a8ab86a4",
   "metadata": {
    "execution": {
     "iopub.execute_input": "2023-03-28T07:14:00.912598Z",
     "iopub.status.busy": "2023-03-28T07:14:00.912598Z",
     "iopub.status.idle": "2023-03-28T07:14:00.927491Z",
     "shell.execute_reply": "2023-03-28T07:14:00.926491Z",
     "shell.execute_reply.started": "2023-03-28T07:14:00.912598Z"
    }
   },
   "outputs": [],
   "source": [
    "input_folder_path = \"../input/\" # where's all the data?\n",
    "checkpoint_location = \"./model_checkpoints/\" # intermediate folder where we will store our model checkpoints\n",
    "scores_json_location = \"./model_data.json\" # also define a location to store a json file with our model data, such as final accuracy score and file location. \n",
    "\n",
    "# verify our model checkpoint directory exists.\n",
    "if not os.path.exists(checkpoint_location):\n",
    "    os.makedirs(checkpoint_location)"
   ]
  },
  {
   "cell_type": "code",
   "execution_count": 8,
   "id": "87251ec9-010b-4d3b-a325-40be9cdafa5e",
   "metadata": {
    "execution": {
     "iopub.execute_input": "2023-03-28T07:14:00.928491Z",
     "iopub.status.busy": "2023-03-28T07:14:00.927994Z",
     "iopub.status.idle": "2023-03-28T07:14:00.942313Z",
     "shell.execute_reply": "2023-03-28T07:14:00.941805Z",
     "shell.execute_reply.started": "2023-03-28T07:14:00.927994Z"
    }
   },
   "outputs": [],
   "source": [
    "num_models_to_ensemble = 10 # how many of the top models do we want to include in our ensemble model. \n",
    "\n",
    "batch_size = 1024 # batch size used for training"
   ]
  },
  {
   "cell_type": "markdown",
   "id": "7a5540d6-a7ef-44ef-8ad3-d7b926e6a789",
   "metadata": {},
   "source": [
    "## Data Analysis\n",
    "so first thing's first, let's load in our data and do some light analysis."
   ]
  },
  {
   "cell_type": "code",
   "execution_count": 9,
   "id": "62e10268-fb9c-4de9-a4e6-768a88f52753",
   "metadata": {
    "execution": {
     "iopub.execute_input": "2023-03-28T07:14:00.943312Z",
     "iopub.status.busy": "2023-03-28T07:14:00.943312Z",
     "iopub.status.idle": "2023-03-28T07:14:02.724311Z",
     "shell.execute_reply": "2023-03-28T07:14:02.723812Z",
     "shell.execute_reply.started": "2023-03-28T07:14:00.943312Z"
    },
    "tags": []
   },
   "outputs": [],
   "source": [
    "# load our training data\n",
    "train_df = pd.read_csv(input_folder_path+\"train.csv\")\n",
    "train_labels = train_df['label'].values\n",
    "train_features = (train_df.iloc[:,1:].values).astype('float32')"
   ]
  },
  {
   "cell_type": "code",
   "execution_count": 10,
   "id": "034f9388-3413-42d4-8efb-7357ef0f84ec",
   "metadata": {
    "execution": {
     "iopub.execute_input": "2023-03-28T07:14:02.725812Z",
     "iopub.status.busy": "2023-03-28T07:14:02.725312Z",
     "iopub.status.idle": "2023-03-28T07:14:02.740336Z",
     "shell.execute_reply": "2023-03-28T07:14:02.739312Z",
     "shell.execute_reply.started": "2023-03-28T07:14:02.725312Z"
    }
   },
   "outputs": [
    {
     "name": "stdout",
     "output_type": "stream",
     "text": [
      "(42000, 785)\n"
     ]
    }
   ],
   "source": [
    "print(train_df.shape)"
   ]
  },
  {
   "cell_type": "markdown",
   "id": "e20614c4-675c-4d17-af39-8c7f21071dc0",
   "metadata": {},
   "source": [
    "### Visualize  some images"
   ]
  },
  {
   "cell_type": "code",
   "execution_count": 11,
   "id": "6916bbb9-9972-4b62-a3fd-c7dfb597e0a7",
   "metadata": {
    "execution": {
     "iopub.execute_input": "2023-03-28T07:14:02.741329Z",
     "iopub.status.busy": "2023-03-28T07:14:02.740811Z",
     "iopub.status.idle": "2023-03-28T07:14:03.375312Z",
     "shell.execute_reply": "2023-03-28T07:14:03.374815Z",
     "shell.execute_reply.started": "2023-03-28T07:14:02.741329Z"
    },
    "tags": []
   },
   "outputs": [
    {
     "name": "stdout",
     "output_type": "stream",
     "text": [
      "image shape:  (28, 28)\n",
      "image min/max: (0.0, 255.0)\n"
     ]
    },
    {
     "data": {
      "image/png": "[encoded data removed]",
      "text/plain": [
       "<Figure size 432x288 with 9 Axes>"
      ]
     },
     "metadata": {},
     "output_type": "display_data"
    }
   ],
   "source": [
    "columns = 3\n",
    "rows = 3\n",
    "fig = plt.figure()\n",
    "print(\"image shape: \", train_features[0].reshape((28, 28)).shape)\n",
    "print(\"image min/max: (%s, %s)\"%(train_features[0].min(), train_features[0].max()))\n",
    "for i in range(columns*rows):\n",
    "    image = train_features[i].reshape((28, 28))\n",
    "    plt.subplot(columns, rows, i+1)\n",
    "    plt.tight_layout()\n",
    "    plt.imshow(image, cmap=\"gray\", interpolation=\"none\")\n",
    "    plt.title(\"Label:\"+str(train_labels[i]))\n",
    "    plt.xticks([])\n",
    "    plt.yticks([])"
   ]
  },
  {
   "cell_type": "markdown",
   "id": "af0cdff4-4b3b-44c8-9321-9dbc4b6fc903",
   "metadata": {},
   "source": [
    "So each image is 28x28 pixels and single channel, so no color information we need to be concered about. We can also see that the values for the image range from 0 to 255. We will need to normalize these into a 0 to 1 range later. Luckily Pytorch will make this easy for us \n",
    "\n",
    "Just looking at the samples here we can already see some variation with samples with the same label, that first '1' is very lopsided and some '0's look like they're drawn more thickly than others, and some are more round or oval. We'll need a pretty robust network to help generalize to these differences. "
   ]
  },
  {
   "cell_type": "markdown",
   "id": "73c75798-1737-4fb3-89d7-4d1e635fb482",
   "metadata": {},
   "source": [
    "### Class Distribution\n",
    "Let's ensure that we don't have any balance issues with our classes."
   ]
  },
  {
   "cell_type": "code",
   "execution_count": 12,
   "id": "b48f97d8-304c-4948-a371-2729b9d7cb18",
   "metadata": {
    "execution": {
     "iopub.execute_input": "2023-03-28T07:14:03.378811Z",
     "iopub.status.busy": "2023-03-28T07:14:03.378312Z",
     "iopub.status.idle": "2023-03-28T07:14:03.607812Z",
     "shell.execute_reply": "2023-03-28T07:14:03.607310Z",
     "shell.execute_reply.started": "2023-03-28T07:14:03.378811Z"
    },
    "tags": []
   },
   "outputs": [
    {
     "name": "stdout",
     "output_type": "stream",
     "text": [
      "Counter({1: 4684, 7: 4401, 3: 4351, 9: 4188, 2: 4177, 6: 4137, 0: 4132, 4: 4072, 8: 4063, 5: 3795})\n"
     ]
    },
    {
     "data": {
      "image/png": "[encoded data removed]",
      "text/plain": [
       "<Figure size 432x288 with 1 Axes>"
      ]
     },
     "metadata": {
      "needs_background": "light"
     },
     "output_type": "display_data"
    }
   ],
   "source": [
    "counter = Counter(train_labels)\n",
    "print(counter)\n",
    "fig, ax = plt.subplots()\n",
    "bars = ax.bar(counter.keys(), counter.values(), tick_label=list(counter.keys()))\n",
    "ax.tick_params(bottom=False, left=False)\n",
    "ax.set_axisbelow(True)\n",
    "ax.yaxis.grid(True, color='#EEEEEE')\n",
    "ax.xaxis.grid(False)\n",
    "ax.set_xlabel(\"Label\")\n",
    "ax.set_ylabel(\"Label Count in Dataset\")\n",
    "ax.set_title(\"Distribution of labels\",  pad=15, color=\"#333333\", weight=\"bold\")\n",
    "\n",
    "for bar in bars:\n",
    "    ax.text(\n",
    "      bar.get_x() + bar.get_width() / 2,\n",
    "      bar.get_height() + bar.get_height()*.03,\n",
    "      round(bar.get_height()+ 5, 1),\n",
    "      horizontalalignment='center'\n",
    "    )\n",
    "\n",
    "    \n",
    "ax.spines['top'].set_visible(False)\n",
    "ax.spines['right'].set_visible(False)\n",
    "ax.spines['left'].set_visible(False)\n",
    "    \n",
    "plt.show()"
   ]
  },
  {
   "cell_type": "markdown",
   "id": "395c5ba5-2749-46b9-96c2-c277600b23b7",
   "metadata": {},
   "source": [
    "So the classes aren't totally even, class '1' has the most samples, and '5' has the fewest. We might want to keep this in mind in case we run into issues training the model later, as it might over predict for 1 and underpredict for 5. For this beginner dataset I don't think this will be much of an issue, but always useful to check and keep in mind. "
   ]
  },
  {
   "cell_type": "markdown",
   "id": "5387b140-de7b-445d-ba0d-fa6dcb95087f",
   "metadata": {},
   "source": [
    "## Data Preperation \n",
    "The only data cleaning we will need to do is to normalize the image values to a range between 0 and 1, we want the inputs to be small so that it's easier for our network to learn off of them and to prevent the weights from exploding (getting too large of values as to near infinity). Luckily when we convert our data to a tensor using ToTensor from a PIL image the function automatically does that for us. So all we need to do is create a transform to convert to a PIL image then a tensor. Easy. \n",
    "\n",
    "The other aspect we will want to prep for is data augmentation. This is where we will take our training data and slightly tweak the image to produce another sample. This can be things like rotating the image slightly, scaling up or down, shifting the image left or right, or adjust the color so it's slightly different. All of these will produce slight variations to our data that our model can use to better generalize to the concept behind a number 3 rather than just trying to memorize the training data itself. We will apply these transforms randomly, so everytime we go to get more data it will always be slightly different. Note: When using actions that require randomness or aren't deterministic be sure to keep reproducability in mind, later in this notebook we set our random seeds, so everytime we rely on randomness we will generate the same set of random numbers, so everytime we run this notebook we get the same results, but without this then our results can vary wildly between each run. \n"
   ]
  },
  {
   "cell_type": "code",
   "execution_count": 13,
   "id": "12159399-186e-47d2-a67f-777064e212dd",
   "metadata": {
    "execution": {
     "iopub.execute_input": "2023-03-28T07:14:03.609311Z",
     "iopub.status.busy": "2023-03-28T07:14:03.608811Z",
     "iopub.status.idle": "2023-03-28T07:14:03.623310Z",
     "shell.execute_reply": "2023-03-28T07:14:03.622810Z",
     "shell.execute_reply.started": "2023-03-28T07:14:03.609311Z"
    }
   },
   "outputs": [],
   "source": [
    "# create a transform pipeline to convert to an image, apply random rotation, translation, scale and color jitter. Also convert to a tensor to be fed into our model. \n",
    "train_transform = transforms.Compose([\n",
    "    ToPILImage(),\n",
    "    RandomRotation(degrees=(-15, 15)),\n",
    "    RandomAffine(degrees=5, translate=(0.15,0.15), scale=(0.75, 1.15)),\n",
    "    ColorJitter(brightness=0.1, contrast=0.1),\n",
    "    ToTensor(),\n",
    "])"
   ]
  },
  {
   "cell_type": "markdown",
   "id": "70c52795-6450-4747-850e-569ee68f33d2",
   "metadata": {},
   "source": [
    "We'll also need to create a custom torch dataset class, this will help us control how we fetch and generate samples to train our model on. With this class we can just pass in our images and labels and our transform pipeline and we can write code to format\n",
    "the images as needed and apply the transform"
   ]
  },
  {
   "cell_type": "code",
   "execution_count": 14,
   "id": "2d36ef47-07fb-45dd-9298-30a174dc34a4",
   "metadata": {
    "execution": {
     "iopub.execute_input": "2023-03-28T07:14:03.624812Z",
     "iopub.status.busy": "2023-03-28T07:14:03.624312Z",
     "iopub.status.idle": "2023-03-28T07:14:03.639311Z",
     "shell.execute_reply": "2023-03-28T07:14:03.638310Z",
     "shell.execute_reply.started": "2023-03-28T07:14:03.624812Z"
    }
   },
   "outputs": [],
   "source": [
    "class CustomTensorDataset(torch.utils.data.Dataset):\n",
    "    # images df, labels df, transforms\n",
    "    # uses labels to determine if it needs to return X & y or just X in __getitem__\n",
    "    def __init__(self, images, labels, transform=None):\n",
    "        self.X = images\n",
    "        self.y = labels\n",
    "        self.transforms = transform\n",
    "                    \n",
    "    def __len__(self):\n",
    "        return len(self.X)\n",
    "    \n",
    "    def __getitem__(self, i):\n",
    "        data = self.X[i] # gets the row\n",
    "        # reshape the row into the image size \n",
    "        data = np.array(data).astype(np.uint8).reshape(28, 28) \n",
    "        \n",
    "        # perform transforms if there are any\n",
    "        if self.transforms:\n",
    "            data = self.transforms(data)\n",
    "            \n",
    "        \n",
    "        # if !test_set return the label as well, otherwise don't\n",
    "        if self.y is not None: # train/val\n",
    "            return (data, self.y[i])\n",
    "        else: # test\n",
    "            return data"
   ]
  },
  {
   "cell_type": "markdown",
   "id": "4febfc3a-71f1-4452-a7c7-6709f4bc1e24",
   "metadata": {},
   "source": [
    "Finally create some helper functions that can take in a set of features, labels, transformer pipeline and generator (to help control the randomness for reproducability) and return a DataLoader. \n",
    "\n",
    "Pytorch's dataloaders help batch our data to help with memory constraints or to just help with organization, they're a useful tool in the pytorch utilities!\n",
    "\n",
    "We also create a helper function that can take in a compelete dataset and split it into a train and test dataset. For each model we will use a different cut of the data for training and testing, so each model will be trained on slightly different data. There is an argument to be made that the same test and train data should be used for each model we train, but so long as our final validation dataset remains static I think it's fine to use a different train/test set for each model we will experiment with. "
   ]
  },
  {
   "cell_type": "code",
   "execution_count": 15,
   "id": "f95789da-92cf-47d1-8902-660ced53d463",
   "metadata": {
    "execution": {
     "iopub.execute_input": "2023-03-28T07:14:03.640811Z",
     "iopub.status.busy": "2023-03-28T07:14:03.640311Z",
     "iopub.status.idle": "2023-03-28T07:14:03.654811Z",
     "shell.execute_reply": "2023-03-28T07:14:03.653810Z",
     "shell.execute_reply.started": "2023-03-28T07:14:03.640811Z"
    }
   },
   "outputs": [],
   "source": [
    "def create_dataloader(features, labels, transformer, generator):\n",
    "    train_images_tensor = torch.tensor(features)\n",
    "    train_labels_tensor = torch.tensor(labels)\n",
    "    train_tensor = CustomTensorDataset(train_images_tensor, train_labels_tensor, transform=transformer)    \n",
    "    train_dataloader = DataLoader(train_tensor, batch_size=batch_size, shuffle=True, generator=generator)\n",
    "    return train_dataloader\n",
    "    \n",
    "        \n",
    "def create_train_val_dataloaders(features, labels, train_transformer=None, test_transformer=None, test_size=.2):\n",
    "    train_images, val_images, train_labels, val_labels = train_test_split(features, labels,\n",
    "                                                                     stratify=labels,\n",
    "                                                                     test_size=test_size)\n",
    "   \n",
    "    if test_transformer == None:\n",
    "        test_transformer = ToTensor()\n",
    "    if train_transformer == None:\n",
    "        train_transformer = ToTensor()\n",
    "    train_dataloader = create_dataloader(train_images, train_labels, train_transformer, g)\n",
    "    \n",
    "    val_dataloader = create_dataloader(val_images, val_labels, test_transformer, g)\n",
    "    return train_dataloader, val_dataloader"
   ]
  },
  {
   "cell_type": "markdown",
   "id": "a85225ca-4eba-43af-9767-d6ed231a8134",
   "metadata": {},
   "source": [
    "Finally we will create a torch generator which will help us with reproducability, we'll feed it the same seed every time and it will produce the same set of \"random\" numbers. This way we can validate if a certain approach or modification to our training routine works or if it was just a really lucky training iteration. "
   ]
  },
  {
   "cell_type": "code",
   "execution_count": 16,
   "id": "872927dd-f9af-49b9-b1fe-485c4b8245d8",
   "metadata": {
    "execution": {
     "iopub.execute_input": "2023-03-28T07:14:03.656313Z",
     "iopub.status.busy": "2023-03-28T07:14:03.655812Z",
     "iopub.status.idle": "2023-03-28T07:14:03.669810Z",
     "shell.execute_reply": "2023-03-28T07:14:03.669311Z",
     "shell.execute_reply.started": "2023-03-28T07:14:03.656313Z"
    },
    "tags": []
   },
   "outputs": [
    {
     "data": {
      "text/plain": [
       "<torch._C.Generator at 0x239b0d20d70>"
      ]
     },
     "execution_count": 16,
     "metadata": {},
     "output_type": "execute_result"
    }
   ],
   "source": [
    "g = torch.Generator()\n",
    "g.manual_seed(random_seed)"
   ]
  },
  {
   "cell_type": "markdown",
   "id": "bcfd50ac-df0c-4b0d-a901-034d13b345d5",
   "metadata": {},
   "source": [
    "## Defining our model\n",
    "So full disclosure, this model architecture is probably way bigger than it needs to be, however this was an intentional choice to make it larger. While this does increase the risk of overfitting and take longer to converge, the end goal of this notebook is to create an ensemble model, so we want our smaller models to be more diverse to make up for each others weaknesses, where 1 model fails to predict correctly we want 2-3 other models to make up for that mistake. To that end we want a model architecture that allows for models to learn in different ways, a larger model means there are more parameters and more local minima that it can settle into, meaning the final model has a better opportunity to be different than a previously trained model. With smaller models there is a risk that they all essentially backpropogate to the same configuration. \n",
    "\n",
    "So larger model it is, and we'll just be sure to keep an eye not to overfit during training. \n",
    "\n",
    "The model itself uses 6 convolutional network layers, with Max Pooling and batch normalization between each layer with a LeakyReLU activation function. We then flatten the inputs and pass them through a 512 node linear layer, again with batch norm and LeakyReLU before passing to our output layer for our 10 classes. We wrap it up by using a log_softmax function to produce probabilities for each class.\n",
    "\n",
    "We also include a dropout layer for each individual layer configured to 10% probability, to help with generalization. "
   ]
  },
  {
   "cell_type": "code",
   "execution_count": 17,
   "id": "23227810-a5e6-4a9e-a6e8-e32058a6106b",
   "metadata": {
    "execution": {
     "iopub.execute_input": "2023-03-28T07:14:03.671311Z",
     "iopub.status.busy": "2023-03-28T07:14:03.670810Z",
     "iopub.status.idle": "2023-03-28T07:14:03.685811Z",
     "shell.execute_reply": "2023-03-28T07:14:03.684812Z",
     "shell.execute_reply.started": "2023-03-28T07:14:03.671311Z"
    },
    "tags": []
   },
   "outputs": [],
   "source": [
    "class Model(nn.Module):\n",
    "    def __init__(self, dropout_rate=.1):\n",
    "        super(Model, self).__init__()          \n",
    "        self.sequential_layers = nn.Sequential(\n",
    "            nn.Conv2d(1, 64, 3, bias=False, padding=1), \n",
    "            nn.MaxPool2d(kernel_size=(3, 3), stride=1, padding=1),\n",
    "            nn.BatchNorm2d(64),\n",
    "             nn.LeakyReLU(),\n",
    "            nn.Dropout(dropout_rate),\n",
    "            \n",
    "            nn.Conv2d(64, 64, 3, bias=False), \n",
    "            nn.MaxPool2d(kernel_size=(3, 3), stride=1, padding=1),\n",
    "            nn.BatchNorm2d(64),\n",
    "             nn.LeakyReLU(),\n",
    "            nn.Dropout(dropout_rate),\n",
    "            \n",
    "            nn.Conv2d(64, 64, 3, bias=False, padding=1), \n",
    "            nn.MaxPool2d(kernel_size=(3, 3), stride=1, padding=1),\n",
    "            nn.BatchNorm2d(64),\n",
    "             nn.LeakyReLU(),\n",
    "            nn.Dropout(dropout_rate),\n",
    "            \n",
    "            nn.Conv2d(64, 128, 3, bias=False, padding=1), \n",
    "            nn.MaxPool2d(kernel_size=(3, 3), stride=1, padding=1),\n",
    "            nn.BatchNorm2d(128),\n",
    "             nn.LeakyReLU(),\n",
    "            nn.Dropout(dropout_rate),   \n",
    "            \n",
    "            nn.Conv2d(128, 128, 3, bias=False, padding=1), \n",
    "            nn.MaxPool2d(kernel_size=(3, 3), stride=1, padding=1),\n",
    "            nn.BatchNorm2d(128),\n",
    "             nn.LeakyReLU(),\n",
    "            nn.Dropout(dropout_rate), \n",
    "            \n",
    "            nn.Conv2d(128, 128, 3, bias=False, padding=1), \n",
    "            nn.MaxPool2d(kernel_size=(3, 3), stride=1, padding=1),\n",
    "            nn.BatchNorm2d(128),\n",
    "             nn.LeakyReLU(),\n",
    "            nn.Dropout(dropout_rate),                                \n",
    "            \n",
    "            nn.Flatten(1, -1),\n",
    "            \n",
    "            nn.LazyLinear(512, bias=False),\n",
    "            nn.BatchNorm1d(512),\n",
    "            nn.LeakyReLU(),\n",
    "            nn.Dropout(dropout_rate),\n",
    "            \n",
    "            nn.LazyLinear(10, bias=False),\n",
    "            nn.BatchNorm1d(10)\n",
    "            \n",
    "        )\n",
    "    def get_logits(self, x):\n",
    "        return self.sequential_layers(x)\n",
    "    \n",
    "    def forward(self, x):\n",
    "        logits = self.get_logits(x)\n",
    "        return F.log_softmax(logits, dim=1)"
   ]
  },
  {
   "cell_type": "markdown",
   "id": "f2854618-7ce2-4c6d-a761-115c37da6b06",
   "metadata": {},
   "source": [
    "## Model Training\n",
    "So now we have a model architecture defined, time to start training. \n",
    "\n",
    "For each model we will use an Adam Optimizer with a learning rate of 0.001 and a weight decay of 1e-5. The weight decay applies a L2 regularization on the model, meaning that it helps prevent overfitting and exploding weights, so it helps control the learning of the model basically. \n",
    "We also define a learning rate decay of .98 for each epoch, meaning the learning rate will decrease by .98 every time we start a new training epoch, this lets our model converge to a better score, without it the backpropogation might have the model cycle never reaching a good local minima, this way we get a bit closer to that goal. Our loss function is going to be cross entropy which is a good loss function for this type of problem. \n",
    "\n",
    "We will train n models (in this case n=30), and we'll score each model based on how well it does on the entire training dataset (not just its specific validation set), the top 10 models will then be selected to form an ensemble model to make our final predictions. We only use the top 10 because if we include too many models we just add to much noise to the final predictions, around 7-11 models seems to be the ideal sweet spot from my experimentation. 10 is a good even number so that's what we choose. "
   ]
  },
  {
   "cell_type": "markdown",
   "id": "b89c12c3-9256-4f74-9024-fac32828acf0",
   "metadata": {},
   "source": [
    "### Training Helper Functions\n",
    "Since we'll be training several nets it'll be helpful to go ahead and define a few functions we can reuse. This is by no means the best pipeline for training, in fact looking at the number of parameters in the train_model function it probably could have benefited from some refactoring and cleanup, maybe even just turn it into a class, but I digress. \n",
    "\n",
    "Everything is pretty standard, we will save the best weights from the model after every epoch as based on the accuracy of the test data, and at the end of the training cycle we will reload the best weights and return that model as the final model. There's room for improvement but it does it's job. "
   ]
  },
  {
   "cell_type": "code",
   "execution_count": 18,
   "id": "a29bf705-beac-45dd-8c4b-1d39fda6a9e4",
   "metadata": {
    "execution": {
     "iopub.execute_input": "2023-03-28T07:14:03.688312Z",
     "iopub.status.busy": "2023-03-28T07:14:03.687811Z",
     "iopub.status.idle": "2023-03-28T07:14:03.716812Z",
     "shell.execute_reply": "2023-03-28T07:14:03.715811Z",
     "shell.execute_reply.started": "2023-03-28T07:14:03.688312Z"
    }
   },
   "outputs": [],
   "source": [
    "def train_step(model, loss_fn, accuracy_fn, optimizer, train_dataloader, device, eval_loss_fn=None):    \n",
    "    model.train()\n",
    "    train_loss = 0\n",
    "    train_accuracy = 0\n",
    "    for batch_index, (data, target) in enumerate(train_dataloader):\n",
    "        data = data.unsqueeze(1)\n",
    "        data = data.squeeze(1)\n",
    "        data, target = data.to(device), target.to(device, dtype=torch.int64)\n",
    "        optimizer.zero_grad()\n",
    "        output = model(data)\n",
    "        loss = loss_fn(output, target)\n",
    "        loss.backward()\n",
    "        optimizer.step()\n",
    "        train_accuracy += accuracy_fn(output, target).item()\n",
    "        if eval_loss_fn==None:\n",
    "            train_loss += loss.item()\n",
    "        else:\n",
    "            train_loss += eval_loss_fn(output, target).item()\n",
    "        del data\n",
    "        del target\n",
    "    train_loss /= len(train_dataloader.dataset)\n",
    "    train_accuracy /= len(train_dataloader.dataset)\n",
    "    return train_loss, train_accuracy\n",
    "        \n",
    "def test_step(model, loss_fn, accuracy_fn, test_dataloader, device):\n",
    "    model.eval()\n",
    "    test_loss = 0\n",
    "    test_accuracy = 0\n",
    "    total_pred = np.zeros(0)\n",
    "    total_target = np.zeros(0)\n",
    "    with torch.no_grad():\n",
    "        for data, target in test_dataloader:\n",
    "            data, target = data.to(device), target.to(device, dtype=torch.int64)\n",
    "            output = model(data)          \n",
    "            \n",
    "            test_loss += loss_fn(output, target).item()\n",
    "            test_accuracy += accuracy_fn(output,target).item()\n",
    "            del data\n",
    "            del target\n",
    "\n",
    "    test_loss /= len(test_dataloader.dataset)\n",
    "    test_accuracy /= len(test_dataloader.dataset)\n",
    "    return test_loss, test_accuracy\n",
    "    \n",
    "\n",
    "def train_model(model, loss_fn, accuracy_fn, optimizer, train_dataloader, test_dataloader, num_epochs, device, verbose=True, eval_loss_fn=None, print_epoch_summary_interval=10, print_first_epoch=True,lr_scheduler=None, lr_step=2):\n",
    "    training_loss_histogram = []\n",
    "    training_accuracy_histogram = []\n",
    "    testing_loss_histogram = []\n",
    "    testing_accuracy_histogram = []\n",
    "    best_state = model.state_dict()\n",
    "    best_accuracy = 0\n",
    "    model_checkpoint_path =checkpoint_location+\"checkpoint.pt\"\n",
    "    if eval_loss_fn == None:\n",
    "        eval_loss_fn = loss_fn\n",
    "    for epoch in range(num_epochs):\n",
    "        if (((1+epoch)%print_epoch_summary_interval==0) or (epoch==0 and print_first_epoch)) and verbose: \n",
    "            print(\"starting epoch \", (epoch+1))\n",
    "        train_loss, train_accuracy = train_step(model, loss_fn, accuracy_fn, optimizer, train_dataloader, device, eval_loss_fn=eval_loss_fn)\n",
    "        \n",
    "        \n",
    "        if (((1+epoch)%print_epoch_summary_interval==0) or (epoch==0 and print_first_epoch)) and verbose: \n",
    "            print(\"evaluating for epoch\")\n",
    "        \n",
    "        \n",
    "        test_loss, test_accuracy = test_step(model, eval_loss_fn, accuracy_fn, test_dataloader, device)\n",
    "        \n",
    "        if (((1+epoch)%print_epoch_summary_interval==0) or (epoch==0 and print_first_epoch)) and verbose: \n",
    "            print(\"training loss: %s, training accuracy: %s | testing loss: %s, testing accuracy: %s\"%(train_loss, train_accuracy, test_loss, test_accuracy))\n",
    "            print(\"-\"*10)\n",
    "        \n",
    "        if test_accuracy >= best_accuracy:\n",
    "            best_accuracy = test_accuracy            \n",
    "            torch.save(model.state_dict(), model_checkpoint_path)\n",
    "        \n",
    "        training_loss_histogram.append(train_loss)\n",
    "        training_accuracy_histogram.append(train_accuracy)\n",
    "        testing_loss_histogram.append(test_loss)\n",
    "        testing_accuracy_histogram.append(test_accuracy)\n",
    "        if lr_scheduler != None and (epoch+1)%lr_step==0:\n",
    "            lr_scheduler.step()    \n",
    "    model.load_state_dict(torch.load(model_checkpoint_path))\n",
    "    os.remove(model_checkpoint_path)\n",
    "    test_loss, test_accuracy = test_step(model, eval_loss_fn, accuracy_fn, test_dataloader, device)\n",
    "        \n",
    "    if (((1+epoch)%print_epoch_summary_interval==0) or (epoch==0 and print_first_epoch)) and verbose: \n",
    "        print(\"training loss: %s, training accuracy: %s | testing loss: %s, testing accuracy: %s\"%(train_loss, train_accuracy, test_loss, test_accuracy))\n",
    "        print(\"-\"*10)\n",
    "    \n",
    "    testing_loss_histogram.append(test_loss)\n",
    "    testing_accuracy_histogram.append(test_accuracy)\n",
    "    return training_loss_histogram, training_accuracy_histogram, testing_loss_histogram, testing_accuracy_histogram"
   ]
  },
  {
   "cell_type": "code",
   "execution_count": 19,
   "id": "5b77d1a5-3e23-4dd0-b830-af0ed7938f28",
   "metadata": {
    "execution": {
     "iopub.execute_input": "2023-03-28T07:14:03.717810Z",
     "iopub.status.busy": "2023-03-28T07:14:03.717810Z",
     "iopub.status.idle": "2023-03-28T07:14:03.732311Z",
     "shell.execute_reply": "2023-03-28T07:14:03.731312Z",
     "shell.execute_reply.started": "2023-03-28T07:14:03.717810Z"
    }
   },
   "outputs": [],
   "source": [
    "# also define an accuracy function just to make things a bit easier for us. \n",
    "def accuracy(output, target):\n",
    "    pred = output.argmax(dim=1, keepdim=True)\n",
    "    correct = pred.eq(target.view_as(pred)).sum()\n",
    "    return correct\n",
    "    "
   ]
  },
  {
   "cell_type": "markdown",
   "id": "5196c9de-5e83-4bcf-acec-bc5c1f92caee",
   "metadata": {},
   "source": [
    "## Reproducability\n",
    "It's at this point we need to take some steps to ensure reproducability. We want to get the same results every time we run this notebook, that way we can validate if any changes we make actually result in a change the the results, or if we just got lucky with a particularly good training session. To that end we need to make sure and seed every possible random number source that our model can draw from. "
   ]
  },
  {
   "cell_type": "code",
   "execution_count": 20,
   "id": "ee06b26c-853d-4926-b7a1-84cd46628e25",
   "metadata": {
    "execution": {
     "iopub.execute_input": "2023-03-28T07:14:03.733812Z",
     "iopub.status.busy": "2023-03-28T07:14:03.733312Z",
     "iopub.status.idle": "2023-03-28T07:14:03.747312Z",
     "shell.execute_reply": "2023-03-28T07:14:03.746812Z",
     "shell.execute_reply.started": "2023-03-28T07:14:03.733812Z"
    },
    "tags": []
   },
   "outputs": [],
   "source": [
    "torch.manual_seed(random_seed)\n",
    "torch.use_deterministic_algorithms(True)\n",
    "torch.backends.cudnn.deterministic = True\n",
    "\n",
    "random.seed(random_seed)\n",
    "\n",
    "np.random.seed(random_seed)"
   ]
  },
  {
   "cell_type": "markdown",
   "id": "5776cc8b-4a47-48d6-9f58-ad39ac6906ce",
   "metadata": {},
   "source": [
    "## Train our models\n",
    "Now for what we've been waiting for, time to train our models. Pretty straight forward loop, for each model we define a new train/test split of the data and pass everything to our training function above, after training we save the model for future use, we'll also keep track of each model's final accuracy based on it's validation set and save a json file with that information. Just in case our run is interupted we can pick up where we left off, or end it early if we so choose, although this will affect the final accuracy. \n",
    "\n",
    "our loop will also print out some stats to help us guage how well each model did after training as well as how long it took."
   ]
  },
  {
   "cell_type": "code",
   "execution_count": 21,
   "id": "c42e2100-bcc8-4430-983a-9f523c941790",
   "metadata": {
    "execution": {
     "iopub.execute_input": "2023-03-28T07:14:03.748810Z",
     "iopub.status.busy": "2023-03-28T07:14:03.748312Z",
     "iopub.status.idle": "2023-03-28T15:41:11.290230Z",
     "shell.execute_reply": "2023-03-28T15:41:11.289231Z",
     "shell.execute_reply.started": "2023-03-28T07:14:03.748810Z"
    },
    "tags": []
   },
   "outputs": [
    {
     "name": "stdout",
     "output_type": "stream",
     "text": [
      "training model  0\n",
      "model id Model_0 training iteration 0 accuracy: 0.9957142857142857 | max accuracy: 0.996904761904762 | training time: 1105.7238903045654 elapsed time: 1106.6318905353546\n",
      "----------\n",
      "training model  1\n",
      "model id Model_1 training iteration 1 accuracy: 0.9952380952380953 | max accuracy: 0.9954761904761905 | training time: 1080.475299358368 elapsed time: 2188.462182044983\n",
      "----------\n",
      "training model  2\n",
      "model id Model_2 training iteration 2 accuracy: 0.9942857142857143 | max accuracy: 0.9966666666666667 | training time: 1042.3256151676178 elapsed time: 3232.1672914028168\n",
      "----------\n",
      "training model  3\n",
      "model id Model_3 training iteration 3 accuracy: 0.9942857142857143 | max accuracy: 0.9957142857142857 | training time: 1041.7905015945435 elapsed time: 4275.349795103073\n",
      "----------\n",
      "training model  4\n",
      "model id Model_4 training iteration 4 accuracy: 0.995 | max accuracy: 0.9973809523809524 | training time: 1036.567997455597 elapsed time: 5313.277292251587\n",
      "----------\n",
      "training model  5\n",
      "model id Model_5 training iteration 5 accuracy: 0.9945238095238095 | max accuracy: 0.996904761904762 | training time: 1020.2714974880219 elapsed time: 6334.838791131973\n",
      "----------\n",
      "training model  6\n",
      "model id Model_6 training iteration 6 accuracy: 0.9966666666666667 | max accuracy: 0.9966666666666667 | training time: 997.591450214386 elapsed time: 7333.693333387375\n",
      "----------\n",
      "training model  7\n",
      "model id Model_7 training iteration 7 accuracy: 0.9959523809523809 | max accuracy: 0.9959523809523809 | training time: 993.5691530704498 elapsed time: 8328.506969928741\n",
      "----------\n",
      "training model  8\n",
      "model id Model_8 training iteration 8 accuracy: 0.9940476190476191 | max accuracy: 0.9945238095238095 | training time: 995.9605231285095 elapsed time: 9325.782859802246\n",
      "----------\n",
      "training model  9\n",
      "model id Model_9 training iteration 9 accuracy: 0.9952380952380953 | max accuracy: 0.996904761904762 | training time: 993.7003829479218 elapsed time: 10320.720755815506\n",
      "----------\n",
      "training model  10\n",
      "model id Model_10 training iteration 10 accuracy: 0.9961904761904762 | max accuracy: 0.9961904761904762 | training time: 992.928416967392 elapsed time: 11314.960150718689\n",
      "----------\n",
      "training model  11\n",
      "model id Model_11 training iteration 11 accuracy: 0.9945238095238095 | max accuracy: 0.996904761904762 | training time: 991.415228843689 elapsed time: 12307.624849319458\n",
      "----------\n",
      "training model  12\n",
      "model id Model_12 training iteration 12 accuracy: 0.9945238095238095 | max accuracy: 0.9966666666666667 | training time: 998.388706445694 elapsed time: 13307.318554639816\n",
      "----------\n",
      "training model  13\n",
      "model id Model_13 training iteration 13 accuracy: 0.9954761904761905 | max accuracy: 0.9954761904761905 | training time: 999.5284280776978 elapsed time: 14308.089516878128\n",
      "----------\n",
      "training model  14\n",
      "model id Model_14 training iteration 14 accuracy: 0.9938095238095238 | max accuracy: 0.9966666666666667 | training time: 995.7344727516174 elapsed time: 15305.06958413124\n",
      "----------\n",
      "training model  15\n",
      "model id Model_15 training iteration 15 accuracy: 0.9952380952380953 | max accuracy: 0.9973809523809524 | training time: 994.4612307548523 elapsed time: 16300.883301019669\n",
      "----------\n",
      "training model  16\n",
      "model id Model_16 training iteration 16 accuracy: 0.9952380952380953 | max accuracy: 0.9954761904761905 | training time: 993.4928319454193 elapsed time: 17295.687794923782\n",
      "----------\n",
      "training model  17\n",
      "model id Model_17 training iteration 17 accuracy: 0.9945238095238095 | max accuracy: 0.9959523809523809 | training time: 990.6034486293793 elapsed time: 18287.6062438488\n",
      "----------\n",
      "training model  18\n",
      "model id Model_18 training iteration 18 accuracy: 0.9947619047619047 | max accuracy: 0.9952380952380953 | training time: 994.7864491939545 elapsed time: 19283.627220392227\n",
      "----------\n",
      "training model  19\n",
      "model id Model_19 training iteration 19 accuracy: 0.991904761904762 | max accuracy: 0.9940476190476191 | training time: 996.467470407486 elapsed time: 20281.401074171066\n",
      "----------\n",
      "training model  20\n",
      "model id Model_20 training iteration 20 accuracy: 0.995 | max accuracy: 0.9959523809523809 | training time: 1007.9043297767639 elapsed time: 21290.569564580917\n",
      "----------\n",
      "training model  21\n",
      "model id Model_21 training iteration 21 accuracy: 0.9947619047619047 | max accuracy: 0.9964285714285714 | training time: 998.8170676231384 elapsed time: 22290.69362783432\n",
      "----------\n",
      "training model  22\n",
      "model id Model_22 training iteration 22 accuracy: 0.9945238095238095 | max accuracy: 0.9971428571428571 | training time: 999.0192062854767 elapsed time: 23291.09333205223\n",
      "----------\n",
      "training model  23\n",
      "model id Model_23 training iteration 23 accuracy: 0.9957142857142857 | max accuracy: 0.9959523809523809 | training time: 996.2053592205048 elapsed time: 24288.620277643204\n",
      "----------\n",
      "training model  24\n",
      "model id Model_24 training iteration 24 accuracy: 0.9959523809523809 | max accuracy: 0.9966666666666667 | training time: 1026.9126362800598 elapsed time: 25316.790636062622\n",
      "----------\n",
      "training model  25\n",
      "model id Model_25 training iteration 25 accuracy: 0.9930952380952381 | max accuracy: 0.995 | training time: 1034.3331151008606 elapsed time: 26352.49425816536\n",
      "----------\n",
      "training model  26\n",
      "model id Model_26 training iteration 26 accuracy: 0.9945238095238095 | max accuracy: 0.9954761904761905 | training time: 1016.330159664154 elapsed time: 27370.097253084183\n",
      "----------\n",
      "training model  27\n",
      "model id Model_27 training iteration 27 accuracy: 0.9940476190476191 | max accuracy: 0.9961904761904762 | training time: 1011.1429364681244 elapsed time: 28382.596150159836\n",
      "----------\n",
      "training model  28\n",
      "model id Model_28 training iteration 28 accuracy: 0.9947619047619047 | max accuracy: 0.9964285714285714 | training time: 1001.0719108581543 elapsed time: 29384.999712228775\n",
      "----------\n",
      "training model  29\n",
      "model id Model_29 training iteration 29 accuracy: 0.995 | max accuracy: 0.9966666666666667 | training time: 1038.3635354042053 elapsed time: 30424.6882045269\n",
      "----------\n"
     ]
    }
   ],
   "source": [
    "model_scores = {}\n",
    "training_start_time = time.time()\n",
    "for i in range(num_models_to_train):\n",
    "    train_dataloader, val_dataloader = create_train_val_dataloaders(train_features, train_labels, train_transformer=train_transform, test_size=.1)\n",
    "    print(\"training model \", i)\n",
    "    model_id = \"Model_\"+str(i)\n",
    "    model_path =checkpoint_location+model_id+\".pt\"\n",
    "    model = Model().to(device)\n",
    "    optimizer = optim.Adam(model.parameters(), lr=0.001, weight_decay=1e-5)\n",
    "    lr_scheduler = optim.lr_scheduler.ExponentialLR(optimizer, gamma=0.98)\n",
    "    loss_fn = F.cross_entropy\n",
    "    \n",
    "    train_start = time.time()\n",
    "    training_loss_hist, training_accuracy_histogram, testing_loss_hist, testing_accuracy_histogram = train_model(model, loss_fn, accuracy, optimizer, train_dataloader, val_dataloader, num_epochs, device, verbose=False, lr_scheduler=lr_scheduler, print_epoch_summary_interval=5)\n",
    "    test_accuracy = testing_accuracy_histogram[-2]\n",
    "    max_accuracy = max(testing_accuracy_histogram) # this max accuracy is the final accuracy of our model, since the training function loads back in the best performing model before returning. \n",
    "    training_time = time.time() - train_start\n",
    "    elapsed_time = time.time() - training_start_time\n",
    "    print(\"model id %s training iteration %s accuracy: %s | max accuracy: %s | training time: %s elapsed time: %s\"%(model_id, i, test_accuracy, max_accuracy, training_time, elapsed_time))\n",
    "    \n",
    "   \n",
    "    model_scores[model_id] =  {\n",
    "        \"file_path\":model_path,\n",
    "        \"score\": max_accuracy\n",
    "    }\n",
    "    cpu_model = model.cpu()\n",
    "    torch.save(model.state_dict(), model_path)\n",
    "    del model\n",
    "    with open(scores_json_location, \"w\") as outfile:\n",
    "        json.dump(model_scores, outfile)\n",
    "    print(\"-\"*10)"
   ]
  },
  {
   "cell_type": "markdown",
   "id": "9adff3ff-23df-4ce5-aad2-de246c7d7f7d",
   "metadata": {},
   "source": [
    "# Checkpoint\n",
    "At this point our models and our model json have been saved to disk, so if something were to happen, say you have to stop the notebook and restart, you could pick up from here rather than having to rerun the entire training segment again. "
   ]
  },
  {
   "cell_type": "code",
   "execution_count": 22,
   "id": "3cc21629-af68-431c-9b62-53be590f09a9",
   "metadata": {
    "execution": {
     "iopub.execute_input": "2023-03-28T15:41:11.291730Z",
     "iopub.status.busy": "2023-03-28T15:41:11.291730Z",
     "iopub.status.idle": "2023-03-28T15:41:11.305766Z",
     "shell.execute_reply": "2023-03-28T15:41:11.304729Z",
     "shell.execute_reply.started": "2023-03-28T15:41:11.291730Z"
    },
    "tags": []
   },
   "outputs": [
    {
     "data": {
      "text/plain": [
       "[{'file_path': './model_checkpoints/Model_0.pt', 'score': 0.996904761904762},\n",
       " {'file_path': './model_checkpoints/Model_1.pt', 'score': 0.9954761904761905},\n",
       " {'file_path': './model_checkpoints/Model_2.pt', 'score': 0.9966666666666667},\n",
       " {'file_path': './model_checkpoints/Model_3.pt', 'score': 0.9957142857142857},\n",
       " {'file_path': './model_checkpoints/Model_4.pt', 'score': 0.9973809523809524},\n",
       " {'file_path': './model_checkpoints/Model_5.pt', 'score': 0.996904761904762},\n",
       " {'file_path': './model_checkpoints/Model_6.pt', 'score': 0.9966666666666667},\n",
       " {'file_path': './model_checkpoints/Model_7.pt', 'score': 0.9959523809523809},\n",
       " {'file_path': './model_checkpoints/Model_8.pt', 'score': 0.9945238095238095},\n",
       " {'file_path': './model_checkpoints/Model_9.pt', 'score': 0.996904761904762},\n",
       " {'file_path': './model_checkpoints/Model_10.pt', 'score': 0.9961904761904762},\n",
       " {'file_path': './model_checkpoints/Model_11.pt', 'score': 0.996904761904762},\n",
       " {'file_path': './model_checkpoints/Model_12.pt', 'score': 0.9966666666666667},\n",
       " {'file_path': './model_checkpoints/Model_13.pt', 'score': 0.9954761904761905},\n",
       " {'file_path': './model_checkpoints/Model_14.pt', 'score': 0.9966666666666667},\n",
       " {'file_path': './model_checkpoints/Model_15.pt', 'score': 0.9973809523809524},\n",
       " {'file_path': './model_checkpoints/Model_16.pt', 'score': 0.9954761904761905},\n",
       " {'file_path': './model_checkpoints/Model_17.pt', 'score': 0.9959523809523809},\n",
       " {'file_path': './model_checkpoints/Model_18.pt', 'score': 0.9952380952380953},\n",
       " {'file_path': './model_checkpoints/Model_19.pt', 'score': 0.9940476190476191},\n",
       " {'file_path': './model_checkpoints/Model_20.pt', 'score': 0.9959523809523809},\n",
       " {'file_path': './model_checkpoints/Model_21.pt', 'score': 0.9964285714285714},\n",
       " {'file_path': './model_checkpoints/Model_22.pt', 'score': 0.9971428571428571},\n",
       " {'file_path': './model_checkpoints/Model_23.pt', 'score': 0.9959523809523809},\n",
       " {'file_path': './model_checkpoints/Model_24.pt', 'score': 0.9966666666666667},\n",
       " {'file_path': './model_checkpoints/Model_25.pt', 'score': 0.995},\n",
       " {'file_path': './model_checkpoints/Model_26.pt', 'score': 0.9954761904761905},\n",
       " {'file_path': './model_checkpoints/Model_27.pt', 'score': 0.9961904761904762},\n",
       " {'file_path': './model_checkpoints/Model_28.pt', 'score': 0.9964285714285714},\n",
       " {'file_path': './model_checkpoints/Model_29.pt', 'score': 0.9966666666666667}]"
      ]
     },
     "execution_count": 22,
     "metadata": {},
     "output_type": "execute_result"
    }
   ],
   "source": [
    "# load back in our model scores data\n",
    "model_scores_values = list(model_scores.values())\n",
    "model_scores_values # verify the contents....just in case"
   ]
  },
  {
   "cell_type": "markdown",
   "id": "5c519312-4314-4258-b002-ea3b470647ca",
   "metadata": {},
   "source": [
    "now we load back in our models for another round of evaluation, now we want to score each model based on how well it does against the entire training data and sort them based on those scores\n",
    "\n"
   ]
  },
  {
   "cell_type": "code",
   "execution_count": 23,
   "id": "4494efbf-667f-4ff8-91b8-cb8eacafd464",
   "metadata": {
    "execution": {
     "iopub.execute_input": "2023-03-28T15:41:11.306730Z",
     "iopub.status.busy": "2023-03-28T15:41:11.306230Z",
     "iopub.status.idle": "2023-03-28T15:41:16.280730Z",
     "shell.execute_reply": "2023-03-28T15:41:16.279728Z",
     "shell.execute_reply.started": "2023-03-28T15:41:11.306730Z"
    },
    "tags": []
   },
   "outputs": [],
   "source": [
    "models = []\n",
    "for model_details in model_scores_values:\n",
    "    file_path = model_details['file_path']\n",
    "    model = Model()\n",
    "    model.load_state_dict(torch.load(file_path))\n",
    "    models.append(model)"
   ]
  },
  {
   "cell_type": "markdown",
   "id": "a5ddc925-826d-4c7b-b5d3-27ad41a57874",
   "metadata": {},
   "source": [
    "## Final Model Selection\n",
    "now we need to find the top 10 models we want to ensemble. We'll do this by scoring each model on the entire dataset and selecting the best overall performers."
   ]
  },
  {
   "cell_type": "code",
   "execution_count": 24,
   "id": "21ba73e1-27f5-4446-ac78-297c7ad443bf",
   "metadata": {
    "execution": {
     "iopub.execute_input": "2023-03-28T15:41:16.282230Z",
     "iopub.status.busy": "2023-03-28T15:41:16.281730Z",
     "iopub.status.idle": "2023-03-28T15:44:13.345731Z",
     "shell.execute_reply": "2023-03-28T15:44:13.344230Z",
     "shell.execute_reply.started": "2023-03-28T15:41:16.282230Z"
    },
    "tags": []
   },
   "outputs": [
    {
     "name": "stdout",
     "output_type": "stream",
     "text": [
      "0 0.9980952380952381\n",
      "1 0.9972380952380953\n",
      "2 0.9980238095238095\n",
      "3 0.9978809523809524\n",
      "4 0.9980714285714286\n",
      "5 0.9976666666666667\n",
      "6 0.9980238095238095\n",
      "7 0.9981428571428571\n",
      "8 0.9980476190476191\n",
      "9 0.9980476190476191\n",
      "10 0.9982142857142857\n",
      "11 0.9978809523809524\n",
      "12 0.9979523809523809\n",
      "13 0.9982380952380953\n",
      "14 0.996904761904762\n",
      "15 0.9978333333333333\n",
      "16 0.9983333333333333\n",
      "17 0.9965714285714286\n",
      "18 0.997452380952381\n",
      "19 0.997547619047619\n",
      "20 0.9976428571428572\n",
      "21 0.9976190476190476\n",
      "22 0.9977857142857143\n",
      "23 0.9970476190476191\n",
      "24 0.9982142857142857\n",
      "25 0.998\n",
      "26 0.9979047619047619\n",
      "27 0.9979761904761905\n",
      "28 0.9982619047619048\n",
      "29 0.9975714285714286\n"
     ]
    }
   ],
   "source": [
    "# very similar to the loop we had before, this time we just pass in a single dataloader to our test_step function to get an overall accuracy. \n",
    "train_dataloader = create_dataloader(train_features, train_labels, ToTensor(), g)\n",
    "best_accuracy = 0 \n",
    "best_n = 1\n",
    "scores = []\n",
    "for i, model in enumerate(models):\n",
    "    device_model = model.to(device)\n",
    "    loss_eval_fn = lambda output, target: F.nll_loss(output,target, reduction='sum')\n",
    "\n",
    "    test_loss, test_accuracy = test_step(device_model, loss_eval_fn, accuracy, train_dataloader, device)\n",
    "    del device_model\n",
    "    print(i, test_accuracy)\n",
    "    scores.append((test_accuracy, model, i))\n",
    "    if test_accuracy > best_accuracy:\n",
    "        best_accuracy = test_accuracy\n",
    "        best_n = i\n"
   ]
  },
  {
   "cell_type": "code",
   "execution_count": 25,
   "id": "7cfea6a4-e661-4aa1-b474-d95f78d7f7e1",
   "metadata": {
    "execution": {
     "iopub.execute_input": "2023-03-28T15:44:13.347230Z",
     "iopub.status.busy": "2023-03-28T15:44:13.346731Z",
     "iopub.status.idle": "2023-03-28T15:44:13.360729Z",
     "shell.execute_reply": "2023-03-28T15:44:13.359730Z",
     "shell.execute_reply.started": "2023-03-28T15:44:13.347230Z"
    },
    "tags": []
   },
   "outputs": [],
   "source": [
    "# now that we have the model scores on the entire training dataset, sort the models based on performance\n",
    "scores.sort(key=lambda x: x[0], reverse=True)\n",
    "scored_models = [x[1] for x in scores]"
   ]
  },
  {
   "cell_type": "code",
   "execution_count": 34,
   "id": "7fc89c4c-d25c-466f-9791-74b38b03f891",
   "metadata": {
    "execution": {
     "iopub.execute_input": "2023-03-29T06:52:52.249442Z",
     "iopub.status.busy": "2023-03-29T06:52:52.248943Z",
     "iopub.status.idle": "2023-03-29T06:52:52.256444Z",
     "shell.execute_reply": "2023-03-29T06:52:52.255447Z",
     "shell.execute_reply.started": "2023-03-29T06:52:52.249442Z"
    },
    "tags": []
   },
   "outputs": [],
   "source": [
    "# and select the top 10 models\n",
    "selected_models = scored_models[:num_models_to_ensemble]"
   ]
  },
  {
   "cell_type": "markdown",
   "id": "8894ed80-55bb-4e86-b1bb-2a2550197276",
   "metadata": {},
   "source": [
    "## Ensembling\n",
    "Now to take those selected models and ensemble them together to make our final predictions. The actual process is pretty straightforward, pass the data through each model and sum their predictions together and softmax the results to get a final prediction. To make it a bit easier we'll go ahead and use a class to help load and unload each model from the gpu (if present)."
   ]
  },
  {
   "cell_type": "code",
   "execution_count": 27,
   "id": "8e184695-6a45-4768-bd43-cace043930ad",
   "metadata": {
    "execution": {
     "iopub.execute_input": "2023-03-28T15:44:13.378231Z",
     "iopub.status.busy": "2023-03-28T15:44:13.377731Z",
     "iopub.status.idle": "2023-03-28T15:44:13.391731Z",
     "shell.execute_reply": "2023-03-28T15:44:13.390731Z",
     "shell.execute_reply.started": "2023-03-28T15:44:13.378231Z"
    },
    "tags": []
   },
   "outputs": [],
   "source": [
    "class EnsembleModel():\n",
    "    def __init__(self, sub_models):\n",
    "        self.models = sub_models \n",
    "        self.device = \"cpu\"\n",
    "        \n",
    "    def forward(self, x):\n",
    "        outputs = []\n",
    "        for model in self.models:\n",
    "            device_model = model.to(self.device)\n",
    "            device_model.eval()\n",
    "            output = device_model.get_logits(x).detach()\n",
    "            outputs.append(output)\n",
    "            del device_model\n",
    "        output = sum(outputs)\n",
    "        output = F.log_softmax(output, dim=1)\n",
    "        return output\n",
    "    def to(self, device):\n",
    "        self.device = device\n",
    "        return self\n",
    "    def eval(self):\n",
    "        for model in self.models:\n",
    "            model.eval()\n",
    "        \n",
    "            \n",
    "    def __call__(self, x):\n",
    "        return self.forward(x)"
   ]
  },
  {
   "cell_type": "code",
   "execution_count": 28,
   "id": "fa4175f2-28ae-4fa1-84b6-7e0664a19dc0",
   "metadata": {
    "execution": {
     "iopub.execute_input": "2023-03-28T15:44:13.393730Z",
     "iopub.status.busy": "2023-03-28T15:44:13.393231Z",
     "iopub.status.idle": "2023-03-28T15:44:14.756231Z",
     "shell.execute_reply": "2023-03-28T15:44:14.754891Z",
     "shell.execute_reply.started": "2023-03-28T15:44:13.393730Z"
    },
    "tags": []
   },
   "outputs": [],
   "source": [
    "# load our test data for the kaggle hold out\n",
    "holdout_data_df = pd.read_csv(input_folder_path+\"test.csv\")\n",
    "holdout_images = (holdout_data_df.iloc[:,:].values).astype('float32')"
   ]
  },
  {
   "cell_type": "code",
   "execution_count": 29,
   "id": "28a9a215-27ed-425a-9e34-e4063e67f4ab",
   "metadata": {
    "execution": {
     "iopub.execute_input": "2023-03-28T15:44:14.757762Z",
     "iopub.status.busy": "2023-03-28T15:44:14.757230Z",
     "iopub.status.idle": "2023-03-28T15:44:14.771231Z",
     "shell.execute_reply": "2023-03-28T15:44:14.770230Z",
     "shell.execute_reply.started": "2023-03-28T15:44:14.757762Z"
    },
    "tags": []
   },
   "outputs": [
    {
     "name": "stdout",
     "output_type": "stream",
     "text": [
      "(28000, 784)\n"
     ]
    }
   ],
   "source": [
    "print(holdout_data_df.shape)"
   ]
  },
  {
   "cell_type": "code",
   "execution_count": 30,
   "id": "ad78e8c0-24ca-4aa8-9dff-5f437233db91",
   "metadata": {
    "execution": {
     "iopub.execute_input": "2023-03-28T15:44:14.772232Z",
     "iopub.status.busy": "2023-03-28T15:44:14.772232Z",
     "iopub.status.idle": "2023-03-28T15:44:31.867230Z",
     "shell.execute_reply": "2023-03-28T15:44:31.866229Z",
     "shell.execute_reply.started": "2023-03-28T15:44:14.772232Z"
    },
    "tags": []
   },
   "outputs": [],
   "source": [
    "holdout_tensor = torch.tensor(holdout_images)\n",
    "holdout_dataset = CustomTensorDataset(holdout_tensor, None, transform=ToTensor())\n",
    "holdout_dataloader = DataLoader(holdout_dataset, batch_size=batch_size, generator=g)\n",
    "\n",
    "ensemble_model = EnsembleModel(selected_models)\n",
    "ensemble_model.to(device)\n",
    "loss_fn = F.cross_entropy\n",
    "\n",
    "predictions = [] \n",
    "for features in holdout_dataloader:\n",
    "    features = features.to(device)\n",
    "    new_predictions = ensemble_model(features)\n",
    "    new_predictions = new_predictions.cpu().detach().numpy()\n",
    "    results = np.argmax(new_predictions, axis = 1)\n",
    "    predictions.extend(list(results))\n",
    "    del features\n",
    "    del new_predictions\n",
    "df = pd.DataFrame(predictions, columns=['Label'])\n",
    "submission = pd.concat([pd.Series(range(1,28001), name = \"ImageId\"), df],axis = 1)\n",
    "submission.to_csv(\"MNIST-ENSEMBLE-SUBMISSION.csv\", index=False)"
   ]
  },
  {
   "cell_type": "markdown",
   "id": "fd18daea-daac-4685-81fa-b376320bc70c",
   "metadata": {},
   "source": [
    "## Final Results and Data Musings, a final score of 99.68% accuracy!\n",
    "The final submission should earn a score of 99.68%, a respectable score but could be much higher. A major issues with getting a higher score is the data for the Kaggle MNIST dataset compared to toehr MNIST sources. The MNIST dataset has 70k labeled images, the default split is 60k for training and a 10k holdout dataset for validation. This is how sources like PyTorch and Tensorflow seperate the data, kaggle on the other hand has only 42k images for training and 28k for the holdout/validation. If you properly split the data into a train/test set from the training images to prevent overfitting then that means that for kaggle you train on even less. In this notebook we did a 90/10 split for training/test so we trained on 37.8k images, whereas with pytorch we would have trained with 54k. This is a signifigant gap between the sample sizes. That means for the same number of epochs a model trained on the Pytorch split would have seen almost double the amount of images as the kaggle split, that means there was a higher variation of images seen which means the model had a better chance toe generalize and learn the patterns as opposed to the kaggle version. \n",
    "\n",
    "Simply put, with a similar model architecture and data augmentation strategy I was able to repeatedly reach a 99.7% accuracy (sometimes as high as 99.75% on a good training run) using the PyTorch split of the data within only 20 training epochs per model, where I struggled to achieve anything higher than 99.5% with the kaggle split with the same number of epochs. \n",
    "\n",
    "A more aggressive Data Augmentation strategy helps to bridge this gap, as well as training for more epochs. But overall I was getting diminishing returns with this approach. Even reference notebooks I found on Kaggle struggled to achieve their advertised accuracy, and instead their results seemed more of an occurance of a good training run rather than deliberate strategy (at least it appeared that way). There is no denying that luck plays a part in the final result of the model, how the weights are initialized and how the data is augmented through the random transforms, but I am not unconvinced that there might be a better strategy or approach to effectively reach the 99.75% accuracy I was aiming for originally. "
   ]
  },
  {
   "cell_type": "markdown",
   "id": "7b18a2d6-9653-4e55-90f9-adaca529e7f8",
   "metadata": {},
   "source": [
    "## Lessons Learned\n",
    "- Luck plays more of a role in Deep Learning that I originally thought. I always knew that it played a factor but this excersize really highlighted the variance that a model can have.\n",
    "- Because luck plays such a factor, experiment reproducability is a neccissity for any future projects. I need to be able to determine if an adjustment to the architecture or training strategy resulted in a chance in accuracy or if it was just the luck of the draw.\n",
    "- Just because the top n models perform well doesn't mean they will produce the best ensemble model from the pool of available models (More on this later in the notebook)\n",
    "- I am extremely long winded and this notebook is way too long "
   ]
  },
  {
   "cell_type": "markdown",
   "id": "ba846264-1c45-4b46-b063-f510a522a7af",
   "metadata": {},
   "source": [
    "## Possible Improvements\n",
    "- I think that perhaps a more deliberate selection of models based on their performance would be beneficial for ensembling. For example if the top model struggles with a particular class pairing it with a model that performs well in that class but not detrmintally bad for the rest of the classes available would be more beneficial than pairing it with a random model. This way the models work off each other to cover their weaknesses. In this notebook I blindly picked the top 10 models with no other analysis done on their compatability. \n",
    "- Perhaps a more deliberate training on the models for a specific class would also help. So rather than training n general models that try to predict every class well, train models to classify a specific class extremely well and does moderatly well on others. A sort of T shaped approach where it does reasonably well on all classes but outperforms on a specific class.\n",
    "- The ensemble method used here is also pretty basic, simply summing the outputs from the individual models, a more advanced models that take the original image as input and the ensemble models predictions as input into a neural network of it's own might produce better results. The new model might be able to pick out instances of when to listen to a particular model over listening to the others based on patterns that exist in the data. \n",
    "- Data Augmentation, I still think the data augmentation I used here could be more robust/aggressive, generating more varied samples to help extend the limited dataset might have helped enhance the final score. \n",
    "- Better parallelization, pytorch dataloaders can benefit from having multiple workers to process data and prepare the next batch, however I had issues when trying to enable this on my system and the workers would crash. Need to investigate this to gain performance boost. \n",
    "- Writting more concise notebooks on project results!"
   ]
  },
  {
   "cell_type": "markdown",
   "id": "56dad336-77de-4552-83e3-fa6c5cd029ef",
   "metadata": {},
   "source": [
    "## Extra: Going beyond the 99.68% with the models from this notebook\n",
    "As an experiment I decided to randomly select models from the pool of models produced by this notebook, overall I tried countless combinations of the models in this notebook to try and find a combination to beat the above score with the top 10 scoring models. What I found is that it is possible to achieve 99.7% accuracy! It is possible that a higher score is possible with a different combination but this is the highest I found.\n",
    "\n",
    "With the models arranged in the order they were trained, it's possible to achieve a higher score with the model indicies [10, 8, 3, 24, 4, 5]. These were not selected by any deliberate process or analysis, so I excluded the code I used to find them (was literally just picking them at random), however I did want to show that it was possible to achieve a higher score with the models trained on this notebook with ensembling. The cells below will make an alternate submission csv using these models. "
   ]
  },
  {
   "cell_type": "code",
   "execution_count": 33,
   "id": "db9d21af-394e-4773-a3f9-6c973073a866",
   "metadata": {
    "execution": {
     "iopub.execute_input": "2023-03-28T15:47:18.359444Z",
     "iopub.status.busy": "2023-03-28T15:47:18.359444Z",
     "iopub.status.idle": "2023-03-28T15:47:29.517945Z",
     "shell.execute_reply": "2023-03-28T15:47:29.517444Z",
     "shell.execute_reply.started": "2023-03-28T15:47:18.359444Z"
    },
    "tags": []
   },
   "outputs": [],
   "source": [
    "ideal_model_indicies = [10, 8, 3, 24, 4, 5]\n",
    "selected_models = [models[i] for i in ideal_model_indicies]\n",
    "\n",
    "ensemble_model = EnsembleModel(selected_models)\n",
    "ensemble_model.to(device)\n",
    "loss_fn = F.cross_entropy\n",
    "\n",
    "predictions = [] \n",
    "for features in holdout_dataloader:\n",
    "    features = features.to(device)\n",
    "    new_predictions = ensemble_model(features)\n",
    "    new_predictions = new_predictions.cpu().detach().numpy()\n",
    "    results = np.argmax(new_predictions, axis = 1)\n",
    "    predictions.extend(list(results))\n",
    "    del features\n",
    "    del new_predictions\n",
    "df = pd.DataFrame(predictions, columns=['Label'])\n",
    "submission = pd.concat([pd.Series(range(1,28001), name = \"ImageId\"), df],axis = 1)\n",
    "submission.to_csv(\"MNIST-ENSEMBLE-SUBMISSION-99.7.csv\", index=False)"
   ]
  },
  {
   "cell_type": "markdown",
   "id": "cccd1d15-5070-480a-8e06-adf326b4cc69",
   "metadata": {},
   "source": [
    "## References and Special Thanks\n",
    "Before I forget I wanted to point out a few notebooks that I ended up referencing quite a bit for this project. \n",
    "\n",
    "* [How to score 97%, 98%, 99%, and 100% by Chris Deotte](https://www.kaggle.com/c/digit-recognizer/discussion/61480) - a really good breakdown of how to achieve different levels of results for the dataset and links to several notebooks for reference. \n",
    "* [25 Million Images! [0.99757] MNIST by Chris Deotte](https://www.kaggle.com/code/cdeotte/25-million-images-0-99757-mnist/notebook) - a really good example of ensembling in tensorflow for this dataset. I had some issues replicating some of his results, the highest run I achieved for this ntoebook was 99.67, but still an awesome reference.\n",
    "* [MNIST Perfect 100% using kNN by Chris Deotte](https://www.kaggle.com/code/cdeotte/mnist-perfect-100-using-knn/notebook) - This was an interesting read, it does \"cheat\" to achieve the 100% accuracy, but still a useful resource. \n"
   ]
  },
  {
   "cell_type": "code",
   "execution_count": null,
   "id": "92ea58ab-79aa-416c-a8ed-901ed2923a01",
   "metadata": {},
   "outputs": [],
   "source": []
  },
  {
   "cell_type": "code",
   "execution_count": null,
   "id": "0261a295-c18d-4803-af1b-037ffe01818a",
   "metadata": {},
   "outputs": [],
   "source": []
  },
  {
   "cell_type": "code",
   "execution_count": null,
   "id": "58586c79-aa56-4a56-b9b9-6a7ca6fb0a49",
   "metadata": {},
   "outputs": [],
   "source": []
  },
  {
   "cell_type": "code",
   "execution_count": null,
   "id": "255f5a24-4cbd-4a5e-9b09-4fae875a6842",
   "metadata": {},
   "outputs": [],
   "source": []
  }
 ],
 "metadata": {
  "kernelspec": {
   "display_name": "Python 3 (ipykernel)",
   "language": "python",
   "name": "python3"
  },
  "language_info": {
   "codemirror_mode": {
    "name": "ipython",
    "version": 3
   },
   "file_extension": ".py",
   "mimetype": "text/x-python",
   "name": "python",
   "nbconvert_exporter": "python",
   "pygments_lexer": "ipython3",
   "version": "3.9.12"
  }
 },
 "nbformat": 4,
 "nbformat_minor": 5
}
